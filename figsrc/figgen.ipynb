{
 "cells": [
  {
   "cell_type": "code",
   "execution_count": 1,
   "metadata": {},
   "outputs": [],
   "source": [
    "import mitsuba as mi\n",
    "\n",
    "mi.set_variant('cuda_ad_rgb')"
   ]
  },
  {
   "cell_type": "markdown",
   "metadata": {},
   "source": [
    "## Cornell Box GT"
   ]
  },
  {
   "cell_type": "code",
   "execution_count": 2,
   "metadata": {},
   "outputs": [],
   "source": [
    "scene = mi.load_dict(mi.cornell_box())\n",
    "spp = 4096\n",
    "for seed in range(5):\n",
    "    img = mi.render(scene, spp=spp, seed=seed)\n",
    "    mi.Bitmap(img).write(f\"cbox_max{8}_rr{5}_spp{spp}_seed{seed}.exr\")"
   ]
  },
  {
   "cell_type": "code",
   "execution_count": 35,
   "metadata": {},
   "outputs": [],
   "source": [
    "ptint_depth2 = mi.load_dict({'type': 'path', 'max_depth': 2})\n",
    "img = mi.render(scene, spp=spp, integrator=ptint_depth2)\n",
    "mi.Bitmap(img).write(f\"cbox_max{2}_spp{spp}.exr\")"
   ]
  },
  {
   "cell_type": "markdown",
   "metadata": {},
   "source": [
    "## Veach MIS"
   ]
  },
  {
   "cell_type": "code",
   "execution_count": 32,
   "metadata": {},
   "outputs": [],
   "source": [
    "scene = mi.load_file(\"../scene/veach-mis/scene.xml\")\n",
    "spp = 1024\n",
    "img = mi.render(scene, spp=spp)\n",
    "mi.Bitmap(img).write(f\"veachmis_max{8}_rr{5}_spp{spp}.exr\")"
   ]
  },
  {
   "cell_type": "code",
   "execution_count": 34,
   "metadata": {},
   "outputs": [],
   "source": [
    "img = mi.render(scene, spp=spp, integrator=ptint_depth2)\n",
    "mi.Bitmap(img).write(f\"veachmis_max{2}_spp{spp}.exr\")"
   ]
  }
 ],
 "metadata": {
  "kernelspec": {
   "display_name": "polarsh",
   "language": "python",
   "name": "python3"
  },
  "language_info": {
   "codemirror_mode": {
    "name": "ipython",
    "version": 3
   },
   "file_extension": ".py",
   "mimetype": "text/x-python",
   "name": "python",
   "nbconvert_exporter": "python",
   "pygments_lexer": "ipython3",
   "version": "3.11.7"
  },
  "orig_nbformat": 4
 },
 "nbformat": 4,
 "nbformat_minor": 2
}
