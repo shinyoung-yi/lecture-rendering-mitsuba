{
 "cells": [
  {
   "cell_type": "markdown",
   "metadata": {},
   "source": [
    "# A quickstart for Mitsuba building blocks"
   ]
  },
  {
   "cell_type": "code",
   "execution_count": 1,
   "metadata": {},
   "outputs": [],
   "source": [
    "import drjit as dr\n",
    "import mitsuba as mi"
   ]
  },
  {
   "cell_type": "markdown",
   "metadata": {},
   "source": [
    "## 1. Random number generator: `mi.Sampler` class\n",
    "A `mi.Sampler` instance can be easily understood as a random number generator.\n",
    "`sampler.next_1d()` is similar to `np.random.rand()`, and `sampler.next_2d()` is similar to `np.random.rand(2)`, when `sampler` is an instance of `mi.Sampler` class.\n",
    "\n",
    "Note that the resulting array shape for `sampler.next_1d()` and `sampler.next_2d()` are slightly depends on whether the Mitsuba variant is scalar or vectorized (CUDA or LLVM)."
   ]
  },
  {
   "cell_type": "code",
   "execution_count": 2,
   "metadata": {},
   "outputs": [
    {
     "name": "stdout",
     "output_type": "stream",
     "text": [
      "#---------- scalar_rgb ----------\n",
      "type(sampler) = <class 'mitsuba.Sampler'>\n",
      "IndependentSampler[\n",
      "  base_seed = 0\n",
      "  sample_count = 4\n",
      "  samples_per_wavefront = 1\n",
      "  wavefront_size = 0\n",
      "]\n",
      "sampler.next_1d() = 0.10837864875793457 : <class 'float'>\n",
      "sampler.next_2d() = [0.90696, 0.406692] : <class 'mitsuba.Point2f'>\n",
      "\n",
      "#---------- cuda_ad_rgb ----------\n",
      "type(sampler) = <class 'mitsuba.Sampler'>\n",
      "IndependentSampler[\n",
      "  base_seed = 0\n",
      "  sample_count = 4\n",
      "  samples_per_wavefront = 1\n",
      "  wavefront_size = 0\n",
      "]\n",
      "sampler.next_1d() = [0.108379] : <class 'drjit.cuda.ad.Float'>\n",
      "sampler.next_2d() = [[0.90696, 0.406692]] : <class 'mitsuba.Point2f'>\n"
     ]
    }
   ],
   "source": [
    "def test_sampler():\n",
    "    sampler = mi.load_dict({'type': 'independent'})\n",
    "    print(f\"{type(sampler) = }\")\n",
    "    assert isinstance(sampler, mi.Sampler)\n",
    "    print(sampler) # This shows some attributes for `sampler`,\n",
    "                # but we have not to care about any of them now.\n",
    "\n",
    "    val = sampler.next_1d()\n",
    "    assert isinstance(val, mi.Float)\n",
    "    print(f\"sampler.next_1d() = {val} : {type(val)}\")\n",
    "    val = sampler.next_2d()\n",
    "    assert isinstance(val, mi.Point2f)\n",
    "    print(f\"sampler.next_2d() = {val} : {type(val)}\")\n",
    "\n",
    "mi.set_variant('scalar_rgb')\n",
    "print(f\"#---------- {mi.variant()} ----------\")\n",
    "test_sampler()\n",
    "\n",
    "mi.set_variant('cuda_ad_rgb', 'llvm_ad_rgb')\n",
    "print(f\"\\n#---------- {mi.variant()} ----------\")\n",
    "test_sampler()"
   ]
  },
  {
   "cell_type": "markdown",
   "metadata": {},
   "source": [
    "Note that common research-oriented renderers including Mitsuba uses the deterministic pseudo-random number generator PCG32. Thus, the same seed and the number of call of `next_1d()` and `next_2d()` yields the same results.\n",
    "\n",
    "See more:\n",
    "* https://www.pcg-random.org/index.html\n",
    "\n",
    "We first test it for a scalar variant of Mitsuba 3"
   ]
  },
  {
   "cell_type": "code",
   "execution_count": 3,
   "metadata": {},
   "outputs": [
    {
     "name": "stdout",
     "output_type": "stream",
     "text": [
      "\n",
      "The seed has been set to be 1.\n",
      "sampler.next_1d() = 0.9390237331390381\n",
      "sampler.next_1d() = 0.6919573545455933\n",
      "sampler.next_1d() = 0.9697715044021606\n",
      "\n",
      "The seed has been set to be 1.\n",
      "sampler.next_1d() = 0.9390237331390381\n",
      "sampler.next_1d() = 0.6919573545455933\n",
      "sampler.next_1d() = 0.9697715044021606\n"
     ]
    }
   ],
   "source": [
    "mi.set_variant('scalar_rgb')\n",
    "sampler = mi.load_dict({'type': 'independent'})\n",
    "\n",
    "sampler.seed(1)\n",
    "print(\"\\nThe seed has been set to be 1.\")\n",
    "print(f\"{sampler.next_1d() = }\")\n",
    "print(f\"{sampler.next_1d() = }\")\n",
    "print(f\"{sampler.next_1d() = }\")\n",
    "\n",
    "sampler.seed(1)\n",
    "print(\"\\nThe seed has been set to be 1.\")\n",
    "print(f\"{sampler.next_1d() = }\")\n",
    "print(f\"{sampler.next_1d() = }\")\n",
    "print(f\"{sampler.next_1d() = }\")"
   ]
  },
  {
   "cell_type": "markdown",
   "metadata": {},
   "source": [
    "For vectorized varitans in Mitsuba 3, we should specify a parameter `wavefront_size` to call `sampler.seed()`, which indicates the amount of vectorized data."
   ]
  },
  {
   "cell_type": "code",
   "execution_count": 4,
   "metadata": {},
   "outputs": [
    {
     "name": "stdout",
     "output_type": "stream",
     "text": [
      "[ERROR OCCURED!]\n",
      "​[Sampler] Sampler::seed(): wavefront_size should be specified!\n"
     ]
    }
   ],
   "source": [
    "mi.set_variant('cuda_ad_rgb', 'llvm_ad_rgb')\n",
    "sampler = mi.load_dict({'type': 'independent'})\n",
    "\n",
    "try:\n",
    "    sampler.seed(1)\n",
    "except RuntimeError as e:\n",
    "    print(\"[ERROR OCCURED!]\")\n",
    "    print(e)"
   ]
  },
  {
   "cell_type": "code",
   "execution_count": 5,
   "metadata": {},
   "outputs": [
    {
     "name": "stdout",
     "output_type": "stream",
     "text": [
      "\n",
      "The seed has been set to be 1.\n",
      "sampler.next_1d() = [0.0186528]\n",
      "sampler.next_1d() = [0.585191]\n",
      "sampler.next_1d() = [0.13826]\n",
      "\n",
      "The seed has been set to be 1.\n",
      "sampler.next_1d() = [0.0186528, 0.958362, 0.781694, 0.854458]\n",
      "sampler.next_1d() = [0.585191, 0.790187, 0.67082, 0.839321]\n",
      "sampler.next_1d() = [0.13826, 0.802202, 0.237768, 0.974834]\n",
      "sampler.next_2d() = [[0.294367, 0.484101],\n",
      " [0.664771, 0.679118],\n",
      " [0.657376, 0.704356],\n",
      " [0.0117549, 0.203928]]\n"
     ]
    }
   ],
   "source": [
    "sampler.seed(1, 1)\n",
    "print(\"\\nThe seed has been set to be 1.\")\n",
    "print(f\"{sampler.next_1d() = }\")\n",
    "print(f\"{sampler.next_1d() = }\")\n",
    "print(f\"{sampler.next_1d() = }\")\n",
    "\n",
    "sampler.seed(1, 4)\n",
    "print(\"\\nThe seed has been set to be 1.\")\n",
    "print(f\"{sampler.next_1d() = }\")\n",
    "print(f\"{sampler.next_1d() = }\")\n",
    "print(f\"{sampler.next_1d() = }\")\n",
    "print(f\"{sampler.next_2d() = }\")"
   ]
  }
 ],
 "metadata": {
  "kernelspec": {
   "display_name": "milecture360",
   "language": "python",
   "name": "python3"
  },
  "language_info": {
   "codemirror_mode": {
    "name": "ipython",
    "version": 3
   },
   "file_extension": ".py",
   "mimetype": "text/x-python",
   "name": "python",
   "nbconvert_exporter": "python",
   "pygments_lexer": "ipython3",
   "version": "3.11.10"
  }
 },
 "nbformat": 4,
 "nbformat_minor": 2
}
